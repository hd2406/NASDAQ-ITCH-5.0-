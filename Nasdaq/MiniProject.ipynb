{
 "cells": [
  {
   "cell_type": "markdown",
   "metadata": {},
   "source": [
    "# Import packages"
   ]
  },
  {
   "cell_type": "code",
   "execution_count": 1,
   "metadata": {},
   "outputs": [],
   "source": [
    "import pandas as pd\n",
    "import struct\n",
    "import xlsxwriter\n",
    "import operator\n",
    "from datetime import timedelta\n",
    "from itertools import groupby"
   ]
  },
  {
   "cell_type": "markdown",
   "metadata": {},
   "source": [
    "# Define variables"
   ]
  },
  {
   "cell_type": "code",
   "execution_count": 2,
   "metadata": {},
   "outputs": [],
   "source": [
    "# create a dictionary to store information of added stokes\n",
    "stk_list = {}\n",
    "\n",
    "#create a dictionary to store all information of traded stokes\n",
    "stock_map = {}"
   ]
  },
  {
   "cell_type": "markdown",
   "metadata": {},
   "source": [
    "# Helper"
   ]
  },
  {
   "cell_type": "markdown",
   "metadata": {},
   "source": [
    "* Bulid a function to convert nanoseconds to hours"
   ]
  },
  {
   "cell_type": "code",
   "execution_count": 3,
   "metadata": {},
   "outputs": [],
   "source": [
    "def nano_to_hour(timestamp):\n",
    "    n = int.from_bytes(timestamp, byteorder='big')\n",
    "    s='{0}'.format(timedelta(seconds=n * 1e-9))\n",
    "    return(int(s.split(':')[0]))"
   ]
  },
  {
   "cell_type": "markdown",
   "metadata": {},
   "source": [
    "# Add order message and Modify Order Messages"
   ]
  },
  {
   "cell_type": "markdown",
   "metadata": {},
   "source": [
    "* Use struct.unpack function to unpack binary data.\n",
    "\n",
    "* The first argument of the function is the format character of the conversion between C and Python values for different message types."
   ]
  },
  {
   "cell_type": "code",
   "execution_count": 4,
   "metadata": {},
   "outputs": [],
   "source": [
    "def add_message(message,msg_type):\n",
    "    global stk_list\n",
    "    if msg_type=='A':\n",
    "        result=struct.unpack('>HH6sQsI8sI',message)\n",
    "    if msg_type=='F':\n",
    "        result=struct.unpack('>HH6sQsI8sI4s',message)\n",
    "        \n",
    "    #add to stoke_list if buy\n",
    "    if result[4]== 'B':\n",
    "        order_ref_no = result[3]\n",
    "        stock_name = result[6].strip()\n",
    "        stock_price = result[7] / 10000.00 \n",
    "        stk_list[order_ref_no] = (stock_name, stock_price)\n",
    "    return\n",
    "\n",
    "def delete_message(message):\n",
    "    global stk_list\n",
    "    result=struct.unpack('>HH6sQ',message)\n",
    "    order_ref_no = result[3]\n",
    "    \n",
    "    try:\n",
    "        stk_list.pop(order_ref_no) # remove from stoke list\n",
    "    except KeyError as e:\n",
    "        return\t\n",
    "    \n",
    "def replace_message(message):\n",
    "    global stk_list\n",
    "    result=struct.unpack('>HH6sQQII',message)\n",
    "    old_order_ref_number = result[3]\n",
    "    new_order_ref_number = result[4]\n",
    "    \n",
    "    # replace the old stoke with the new one\n",
    "    try:\n",
    "        (stock_name, stock_price) = stk_list.pop(old_order_ref_number)\n",
    "        stk_list[new_order_ref_number] = (stock_name, stock_price)\n",
    "    except KeyError as e:\n",
    "        return\n",
    "    return"
   ]
  },
  {
   "cell_type": "markdown",
   "metadata": {},
   "source": [
    "# Executed message"
   ]
  },
  {
   "cell_type": "code",
   "execution_count": 5,
   "metadata": {},
   "outputs": [],
   "source": [
    "def executed_message(message):\n",
    "    global stock_map\n",
    "    global stk_list\n",
    "    msg_type = 'E'\n",
    "    result=struct.unpack('>HH6sQIQ',message)\n",
    "    \n",
    "    stock_price = 0\n",
    "    timestamp = result[2]\n",
    "    order_ref_no = result[3]   \n",
    "    share_volume = result[4]\n",
    "    match_number = result[5]\n",
    "    hr = nano_to_hour(timestamp)\n",
    "    \n",
    "    try:\n",
    "        (stock_name, stock_price) = stk_list[order_ref_no]\n",
    "        if stock_name not in stock_map:\n",
    "            stock_map[stock_name] = [(msg_type,hr, order_ref_no, stock_price, share_volume)]\n",
    "        else:\n",
    "            stock_list = stock_map[stock_name]\n",
    "            stock_list.append((msg_type,hr, order_ref_no, stock_price, share_volume))\n",
    "            stock_map[stock_name] = stock_list\n",
    "    except KeyError as e:\n",
    "        return\t\n",
    "\n",
    "\n",
    "def executed_price_message(message):\n",
    "    global stock_map\n",
    "    global stk_list\n",
    "    msg_type = 'C'\n",
    "    result=struct.unpack('>HH6sQIQsI',message)\n",
    "    \n",
    "    if result[6] == 'Y':\n",
    "        timestamp = result[2]\n",
    "        order_ref_no = result[3]\n",
    "        share_volume = result[4]\n",
    "        match_number = result[5]\n",
    "        stock_price = (result[7]) / 10000.00\n",
    "        hr = nano_to_hour(timestamp)\n",
    "        \n",
    "        try:\n",
    "            (stock_name, stock_price_old) = stk_list[order_ref_no]\n",
    "            if stock_name not in stock_map:\n",
    "                stock_map[stock_name] = [(msg_type,hr, order_ref_no, stock_price, share_volume)]\n",
    "            else:\n",
    "                stock_list = stock_map[stock_name]\n",
    "                stock_list.append((msg_type,hr,order_ref_no, stock_price, share_volume))\n",
    "                stock_map[stock_name] = stock_list\n",
    "            \n",
    "        except KeyError as e:\n",
    "            return"
   ]
  },
  {
   "cell_type": "markdown",
   "metadata": {},
   "source": [
    "# Trade Messages"
   ]
  },
  {
   "cell_type": "code",
   "execution_count": 6,
   "metadata": {},
   "outputs": [],
   "source": [
    "def trade_message(message):\n",
    "    global stock_map\n",
    "    global stk_list\n",
    "    msg_type = 'P'\n",
    "    result= struct.unpack('>HH6sQsI8sIQ',message)\n",
    "   \n",
    "    timestamp=result[2]\n",
    "    share_volume = result[5]\n",
    "    stock_name = result[6].strip()\n",
    "    stock_price=result[7]/10000.00\n",
    "    match_number = result[8]\n",
    "    hr = nano_to_hour(timestamp)\n",
    "         \n",
    "    if stock_name not in stock_map:\n",
    "        stock_map[stock_name] = [(msg_type,hr, match_number, stock_price, share_volume)]\n",
    "    else:\n",
    "        stock_list = stock_map[stock_name]\t\t\n",
    "        stock_list.append((msg_type,hr, match_number, stock_price, share_volume))\n",
    "        stock_map[stock_name] = stock_list\n",
    "\n",
    "def broken_trade_message(message):\n",
    "    global stock_map\n",
    "    global stk_list\n",
    "    global exe_orders\n",
    "    result=struct.unpack('>HH6sQ',message)\n",
    "    match_number = result[3]\n",
    "    try:\n",
    "        (msg_type, order_ref_no, stock_name) = exe_orders.pop(match_number)\n",
    "        if stock_name in stock_map:\n",
    "            stock_list = stock_map[stock_name]\n",
    "            for index, item in enumerate(stock_list):\n",
    "                if item[1] == order_ref_no and msg_type == item[0]:\n",
    "                    del stock_list[index]\n",
    "                    break\n",
    "            stock_map[stock_name] = stock_list\n",
    "    except KeyError as e:\n",
    "        return\t\n",
    "\n",
    "def cross_trade_message(message):\n",
    "    global stock_map\n",
    "    global stk_list\n",
    "    msg_type = 'Q'\n",
    "    result= struct.unpack('>HH6sQ8sIQs',message)\n",
    "    \n",
    "    timestamp=result[2] \n",
    "    share_volume = result[3]\n",
    "    stock_name = result[4].strip()\n",
    "    stock_price=result[5]/10000.00\n",
    "    match_number = result[6]    \n",
    "    hr = nano_to_hour(timestamp)\n",
    "    \n",
    "    if share_volume == 0:\n",
    "        return\t\n",
    "    elif stock_name not in stock_map:\n",
    "        stock_map[stock_name] = [(msg_type,hr, match_number, stock_price, share_volume)]\n",
    "    else:\n",
    "        stock_list = stock_map[stock_name]\t\t\n",
    "        stock_list.append((msg_type,hr, match_number, stock_price, share_volume))\n",
    "        stock_map[stock_name] = stock_list\n"
   ]
  },
  {
   "cell_type": "markdown",
   "metadata": {},
   "source": [
    "# Parse message"
   ]
  },
  {
   "cell_type": "code",
   "execution_count": 7,
   "metadata": {},
   "outputs": [],
   "source": [
    "def parse(message, msg_type):\n",
    "    if msg_type == 'P':\n",
    "        trade_message(message)\n",
    "    elif msg_type == 'C':\t\t\n",
    "        executed_price_message(message)\n",
    "    elif msg_type == 'E':\t\t\n",
    "        executed_message(message)\n",
    "    elif msg_type == 'A' or msg_type == 'F':\t\t\n",
    "        add_message(message,msg_type) \n",
    "    elif msg_type == 'D':\t\t\n",
    "        delete_message(message)\n",
    "    elif msg_type == 'Q':\n",
    "        cross_trade_message(message)\n",
    "    elif msg_type == 'B':\t\t\n",
    "        broken_trade_message(message)\n",
    "    elif msg_type == 'U':\t\t\n",
    "        replace_message(message)\n",
    "    else:\n",
    "        return\n",
    "    "
   ]
  },
  {
   "cell_type": "markdown",
   "metadata": {},
   "source": [
    "# Read and rearrange data"
   ]
  },
  {
   "cell_type": "code",
   "execution_count": 8,
   "metadata": {},
   "outputs": [],
   "source": [
    "f = open(\"D:/Trexquant/data/01302019.NASDAQ_ITCH50\",'rb');#read the bindata\n",
    "\n",
    "#deal with EOF\n",
    "for _ in range(20000000):\n",
    "    size = int.from_bytes(f.read(2), byteorder='big', signed=False)\n",
    "    if not size:\n",
    "        break\n",
    "    \n",
    "    # get the message type for each line\n",
    "    message_type = f.read(1).decode('ascii')\n",
    "    record = f.read(size - 1)\n",
    "        \n",
    "    # consider the system event message here\n",
    "    if message_type=='S':\n",
    "        result=struct.unpack('>HH6ss',record)\n",
    "        # M means end of Market hours\n",
    "        if result[3]=='M':\n",
    "            break\n",
    "    \n",
    "    parse(record, message_type)"
   ]
  },
  {
   "cell_type": "markdown",
   "metadata": {},
   "source": [
    "* Sum up the Quantity and Price $\\times$ Quantity of different stoke in different time period"
   ]
  },
  {
   "cell_type": "code",
   "execution_count": 9,
   "metadata": {},
   "outputs": [],
   "source": [
    "rearrange = {}\n",
    "\n",
    "for stoke_name,information in stock_map.items():\n",
    "    \n",
    "    x = information\n",
    "    \n",
    "    # sum up quantity\n",
    "    sum_q = lambda tu : [(k, sum(u[4] for u in v)) for k, v in groupby(tu, lambda x: x[1])]\n",
    "    # sum up price * quantity\n",
    "    sum_pq = lambda tu : [(k, sum(u[3]*u[4] for u in v)) for k, v in groupby(tu, lambda x: x[1])]\n",
    "    \n",
    "    q = sum_q(x)\n",
    "    pq = sum_pq(x)\n",
    "    \n",
    "    id = operator.itemgetter(0)\n",
    "    id_inf = {id(rec): rec[1:] for rec in pq} \n",
    "    new = [info + id_inf[id(info)] for info in q if id(info) in id_inf]\n",
    "    \n",
    "    rearrange[stoke_name] = new"
   ]
  },
  {
   "cell_type": "markdown",
   "metadata": {},
   "source": [
    "# Output as excel file"
   ]
  },
  {
   "cell_type": "code",
   "execution_count": 10,
   "metadata": {},
   "outputs": [],
   "source": [
    "workbook = xlsxwriter.Workbook(\"D:/Trexquant/data/result.xlsx\")\n",
    "index = 2\n",
    "\n",
    "sheet = workbook.add_worksheet()\n",
    "sheet.write('A1', \"Stoke name\")\n",
    "sheet.write('B1', \"Hour\")\n",
    "sheet.write('C1', \"Total Volume * Price\")\n",
    "sheet.write('D1', \"Total Volume\")\n",
    "sheet.write('E1', \"VWAP\")  \n",
    "\n",
    "for key, value in rearrange.items():\n",
    "    for a, item in enumerate(value):        \n",
    "        sheet.write(\"A\"+str(index), key.decode())\n",
    "        sheet.write(\"B\"+str(index), item[0])\n",
    "        sheet.write(\"C\"+str(index), item[2])\n",
    "        sheet.write(\"D\"+str(index), item[1])\n",
    "        sheet.write(\"E\"+str(index), item[2] / (item[1] * 1.00))\n",
    "        index += 1\n",
    "        \n",
    "workbook.close()"
   ]
  },
  {
   "cell_type": "code",
   "execution_count": 11,
   "metadata": {},
   "outputs": [
    {
     "data": {
      "text/html": [
       "<div>\n",
       "<style scoped>\n",
       "    .dataframe tbody tr th:only-of-type {\n",
       "        vertical-align: middle;\n",
       "    }\n",
       "\n",
       "    .dataframe tbody tr th {\n",
       "        vertical-align: top;\n",
       "    }\n",
       "\n",
       "    .dataframe thead th {\n",
       "        text-align: right;\n",
       "    }\n",
       "</style>\n",
       "<table border=\"1\" class=\"dataframe\">\n",
       "  <thead>\n",
       "    <tr style=\"text-align: right;\">\n",
       "      <th></th>\n",
       "      <th>Stoke name</th>\n",
       "      <th>Hour</th>\n",
       "      <th>Total Volume * Price</th>\n",
       "      <th>Total Volume</th>\n",
       "      <th>VWAP</th>\n",
       "    </tr>\n",
       "  </thead>\n",
       "  <tbody>\n",
       "    <tr>\n",
       "      <th>0</th>\n",
       "      <td>UGAZ</td>\n",
       "      <td>4</td>\n",
       "      <td>59894.36</td>\n",
       "      <td>1547</td>\n",
       "      <td>38.716458</td>\n",
       "    </tr>\n",
       "    <tr>\n",
       "      <th>1</th>\n",
       "      <td>UGAZ</td>\n",
       "      <td>5</td>\n",
       "      <td>20887.80</td>\n",
       "      <td>540</td>\n",
       "      <td>38.681111</td>\n",
       "    </tr>\n",
       "    <tr>\n",
       "      <th>2</th>\n",
       "      <td>UGAZ</td>\n",
       "      <td>6</td>\n",
       "      <td>6587.60</td>\n",
       "      <td>170</td>\n",
       "      <td>38.750588</td>\n",
       "    </tr>\n",
       "    <tr>\n",
       "      <th>3</th>\n",
       "      <td>UGAZ</td>\n",
       "      <td>7</td>\n",
       "      <td>273014.56</td>\n",
       "      <td>7006</td>\n",
       "      <td>38.968678</td>\n",
       "    </tr>\n",
       "    <tr>\n",
       "      <th>4</th>\n",
       "      <td>UGAZ</td>\n",
       "      <td>8</td>\n",
       "      <td>10053.85</td>\n",
       "      <td>260</td>\n",
       "      <td>38.668654</td>\n",
       "    </tr>\n",
       "  </tbody>\n",
       "</table>\n",
       "</div>"
      ],
      "text/plain": [
       "  Stoke name  Hour  Total Volume * Price  Total Volume       VWAP\n",
       "0       UGAZ     4              59894.36          1547  38.716458\n",
       "1       UGAZ     5              20887.80           540  38.681111\n",
       "2       UGAZ     6               6587.60           170  38.750588\n",
       "3       UGAZ     7             273014.56          7006  38.968678\n",
       "4       UGAZ     8              10053.85           260  38.668654"
      ]
     },
     "execution_count": 11,
     "metadata": {},
     "output_type": "execute_result"
    }
   ],
   "source": [
    "# check the result\n",
    "pd.read_excel('D:/Trexquant/data/result.xlsx').head()"
   ]
  }
 ],
 "metadata": {
  "kernelspec": {
   "display_name": "Python 3",
   "language": "python",
   "name": "python3"
  },
  "language_info": {
   "codemirror_mode": {
    "name": "ipython",
    "version": 3
   },
   "file_extension": ".py",
   "mimetype": "text/x-python",
   "name": "python",
   "nbconvert_exporter": "python",
   "pygments_lexer": "ipython3",
   "version": "3.7.1"
  }
 },
 "nbformat": 4,
 "nbformat_minor": 2
}
